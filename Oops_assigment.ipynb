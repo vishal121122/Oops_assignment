{
  "nbformat": 4,
  "nbformat_minor": 0,
  "metadata": {
    "colab": {
      "provenance": []
    },
    "kernelspec": {
      "name": "python3",
      "display_name": "Python 3"
    },
    "language_info": {
      "name": "python"
    }
  },
  "cells": [
    {
      "cell_type": "markdown",
      "source": [
        "#Theory questions.\n",
        "\n",
        "1. What is Object-Oriented Programming (OOP)?\n",
        "\n",
        "Ans. Object oriented programming is a programming style in python in which we arrange the code using object and class.\n",
        "\n",
        "2. What is a class in OOP?\n",
        "\n",
        "Ans. Class basically is a blueprint, we can make object through it, for example \"car\" is a class and we can make defferent cars (objects) like tata safari, mahindra tuv, suzuki alto etc.\n",
        "\n",
        "3. What is an object in OOP?\n",
        "\n",
        "Ans. Object in oop is a real world entity made from class like phone is a class and i phone, samsung and xiaomi are objects\n",
        "\n",
        "4. What is the difference between abstraction and encapsulation?\n",
        "\n",
        "Ans. Abstraction and encapsulation both methods are related to hinding but there is difference between both methods while abstraction hides only unneeded details and complex implementation and encapsulation binds data and method and we can make private data or can make it private using \"__\" to private or \"_\" to protect\n",
        "\n",
        "5. What are dunder methods in Python?\n",
        "\n",
        "Ans. Dunder method or magical/special method in python are the method defined by built in class in python we define this type of methods for creating custom objects and implementing operator overloading in python.\n",
        "\n",
        "6.Explain the concept of inheritance in OOP\n",
        "\n",
        "Ans. Inheritance is basically a same concept as in real life but in oop derived class inherits from base class, when a derived class inherits it can access the method from base class.\n",
        "\n",
        "7. What is polymorphism in OOP?\n",
        "\n",
        "Ans. Polymorphism is a process in python which refers to an object taking several forms depending on the method or data method overloading and method overriding are the ways of polymorphism\n",
        "\n",
        "8. How is encapsulation achieved in Python?\n",
        "\n",
        "Ans. To make an object private use \"__\" before any method variable or \"_\" to protect it\n",
        "\n",
        "9. What is a constructor in Python?\n",
        "\n",
        "Ans. In Python, a constructor is a special method used to initialize an object when it's created.Python uses the init() method to define a constructor\n",
        "\n",
        "10. What are class and static methods in Python?\n",
        "\n",
        "Ans. Class methods are bound to the class and access/modify methods and attributes associated to the class.\n",
        "\n",
        "Static method doesn't modify class or instance state, it behavees like a plain function that belongs to a class\n",
        "\n",
        "11. What is method overloading in Python?\n",
        "\n",
        "Ans.In Python, if you define multiple methods with the same name in a class, the last definition will override the previous ones. however python doesn't support method overriding in traditional way, but it can be achieved using some methods e.g. (*args), (**kwargs)\n",
        "\n",
        "12. What is method overriding in OOP?\n",
        "Ans.Method overloading in python refers to an object taking several forms depending on the method/data. method overloading happens in thebsame class and the last method overloads previous ones in the same class\n",
        "\n",
        "13. What is a property decorator in Python?\n",
        "Ans.Property decorators allow you to use class method as attribute and make code look neat and well organized\n",
        "\n",
        "14. Why is polymorphism important in OOP?\n",
        "Ans. Polymorphism is a fundamental concept in Object-Oriented Programming (OOP) that significantly enhances code flexibility, reusability, and maintainability.\n",
        "\n",
        "15. What is an abstract class in Python?\n",
        "\n",
        "Ans. Abstract class is a concept of hiding complex implementation, hiding unneeded details and exposing the data only which is required and also abstract class can not be instantiated it always remain in subclass\n",
        "\n",
        "16. What are the advantages of OOP?\n",
        "\n",
        "Ans. Object oriented program is a programming style in which we arrange the code using object and class it makes code easy to access and also make it clean and decorates it and codes flexibility and reusability increases using oop system\n",
        "\n",
        "17. What is the difference between a class variable and an instance variable?\n",
        "\n",
        "Ans. Class variable are defined insida a class and they can be call from the class name and they share same name for all instances\n",
        "\n",
        "Instance variables are unique variable they are defined as init with self keyword and they don't share data across all instances.\n",
        "\n",
        "18. What is multiple inheritance in Python?\n",
        "\n",
        "Ans. Multiple inheritance in python is same im real world when a class inherits from 2 or more classes it is called multiple inheritance\n",
        "\n",
        "19. Explain the purpose of \"__str_ and repr. methods in Python.\n",
        "\n",
        "Ans. In python \" str, repr\" are dunder or magic/special method use to make code loook more clean and user friendly when str is use to make an object is an way that is easily understandable and repr is use when you need a precise representation that can represent the code and this is developer friendly it helps to debug the code.\n",
        "\n",
        "20. What is the significance of the super()' function in Python?\n",
        "\n",
        "Ans. The super() function in Python is used to call a method from the parent (superclass) in a child (subclass). It is mainly used in inheritance to reuse methods of the parent class without explicitly naming it.\n",
        "\n",
        "21. What is the significance of the del method in Python?\n",
        "\n",
        "Ans. Del is use to cleanup objects after they are used and no longer needed and other use of it is to close the file after use and many more...\n",
        "\n",
        "22. What is the difference between @staticmethod and @classmethod in Python?\n",
        "\n",
        "Ans. @classmethod is bound to the class and can only access or modigy methods and attributes associated to the class\n",
        "\n",
        "@staticmethod does not modify class or instance state it behaves like a plain function that belomgs to a class it does not access instance or class state.\n",
        "\n",
        "23. How does polymorphism work in Python with inheritance?\n",
        "\n",
        "Ans. Polymorphism means \"one interface, multiple implementations\"—a function or method can behave differently for different classes. When combined with inheritance, polymorphism allows a child class to override a parent class method with its own custom behavior.\n",
        "\n",
        "24. What is method chaining in Python OOP?\n",
        "\n",
        "Ans. Method Chaining in Python Object-Oriented Programming (OOP) is a technique where multiple methods are called on the same object in a single line. This is achieved by making each method return self, so the next method can be called directly.\n",
        "\n",
        "25. What is the purpose of the __call_. method in Python?\n",
        "\n",
        "Ans. In Python, the call() method allows an instance of a class to be called like a function. This makes objects behave like functions, providing a flexible way to execute logic."
      ],
      "metadata": {
        "id": "w5dZq8AXpRJL"
      }
    },
    {
      "cell_type": "markdown",
      "source": [
        "#Practical question."
      ],
      "metadata": {
        "id": "sTxL4aS0rd5i"
      }
    },
    {
      "cell_type": "code",
      "source": [
        "#1. Create a parent class Animal with a method speak() that prints a generic message. Create a child class Dog that overrides the speak() method to print \"Bark!\".\n",
        "\n",
        "class animal:\n",
        "    def speak(self):\n",
        "        print(\"animal is creating a sound\")\n",
        "class dog(animal):\n",
        "    def speak(self):\n",
        "        print(\"dog is barking\")\n",
        "Dog = dog()\n",
        "Dog.speak()\n",
        ""
      ],
      "metadata": {
        "colab": {
          "base_uri": "https://localhost:8080/"
        },
        "id": "rfSt3EOhr3Vl",
        "outputId": "7ea24a20-f9a0-4cef-9d2b-b70648a10f6d"
      },
      "execution_count": 1,
      "outputs": [
        {
          "output_type": "stream",
          "name": "stdout",
          "text": [
            "dog is barking\n"
          ]
        }
      ]
    },
    {
      "cell_type": "code",
      "source": [
        "# 2. Write a program to create an abstract class Shape with a method area(). Derive classes Circle and Rectangle from it and implement the area() method in both.\n",
        "\n",
        "import math\n",
        "class shape:\n",
        "    def area(self):\n",
        "        return 0\n",
        "class circle(shape):\n",
        "    def __init__(self, radius):\n",
        "        self.radius = radius\n",
        "    def area(self):\n",
        "        return math.pi * self.radius ** 2\n",
        "class rectangle(shape):\n",
        "    def __init__(self, length, width):\n",
        "        self.length = length\n",
        "        self.width = width\n",
        "    def area(self):\n",
        "        return self.length * self.width\n",
        "Circ = circle(5)\n",
        "rect = rectangle(5, 7)\n",
        "print(Circ.area())\n",
        "print(rect.area())"
      ],
      "metadata": {
        "colab": {
          "base_uri": "https://localhost:8080/"
        },
        "id": "_afk8vVGsNcJ",
        "outputId": "99ba53a4-dc4c-4775-87da-be5ac05d8d15"
      },
      "execution_count": 2,
      "outputs": [
        {
          "output_type": "stream",
          "name": "stdout",
          "text": [
            "78.53981633974483\n",
            "35\n"
          ]
        }
      ]
    },
    {
      "cell_type": "code",
      "source": [
        "# 3. Implement a multi-level inheritance scenario where a class Vehicle has an attribute type. Derive a class Car and further derive a class ElectricCar that adds a battery attribute.\n",
        "\n",
        "class vehicle:\n",
        "    def __init__(self):\n",
        "        self.type = \"vehicle\"\n",
        "    def show_vehicle_type(self):\n",
        "        print(\"it's a vehicle\")\n",
        "class car(vehicle):\n",
        "    def __init__(self, brand):\n",
        "        super().__init__()\n",
        "        self.brand = brand\n",
        "    def type_car(self):\n",
        "        print(f\" Car type of {self.brand}\")\n",
        "class electric_car(car):\n",
        "    def __init__(self, brand):\n",
        "        super().__init__(brand)\n",
        "    def battery_capac(self, battery):\n",
        "        self.battery = battery\n",
        "        print(f\"battery capacity is {self.battery} kw/h\")\n",
        "vehic = electric_car(\"Tesla\")\n",
        "vehic.show_vehicle_type()\n",
        "suzuki = car(\"suv\")\n",
        "suzuki.type_car()\n",
        "vehic.battery_capac(24)\n",
        "\n",
        "        self.brand = brand\n",
        "        print(f\" Car typ of {self.brand}\")\n",
        "class electric_car(car):\n",
        "    def battery_capac(self, battery):\n",
        "        self.battery = battery\n",
        "        print(f\"battery capacity is {self.battery} kw/h\")\n",
        "vehic = electric_car()\n",
        "vehic.vehicle_type()\n",
        "suzuki = car()\n",
        "suzuki.type_car(\"suv\")\n",
        "vehic.battery_capac(24)\n",
        "\n"
      ],
      "metadata": {
        "colab": {
          "base_uri": "https://localhost:8080/",
          "height": 106
        },
        "id": "Q4tAU2gAsqzU",
        "outputId": "7fae1cdf-7154-47af-f538-93275d8f09ab"
      },
      "execution_count": 13,
      "outputs": [
        {
          "output_type": "error",
          "ename": "IndentationError",
          "evalue": "unexpected indent (<ipython-input-13-16740e609b50>, line 26)",
          "traceback": [
            "\u001b[0;36m  File \u001b[0;32m\"<ipython-input-13-16740e609b50>\"\u001b[0;36m, line \u001b[0;32m26\u001b[0m\n\u001b[0;31m    self.brand = brand\u001b[0m\n\u001b[0m    ^\u001b[0m\n\u001b[0;31mIndentationError\u001b[0m\u001b[0;31m:\u001b[0m unexpected indent\n"
          ]
        }
      ]
    },
    {
      "cell_type": "code",
      "source": [
        "# 4. Demonstrate polymorphism by creating a base class Bird with a method fly(). Create two derived classes Sparrow and Penguin that override the fly() method.\n",
        "class bird:\n",
        "    def fly(self):\n",
        "        print(\"flying bird\")\n",
        "class sparrow(bird):\n",
        "    def fly(self):\n",
        "        print(\"sparrow is flying\")\n",
        "class penguin(bird):\n",
        "    def fly(self):\n",
        "        print(\"Can't fly no wings\")\n",
        "def flying(bird):\n",
        "    bird.fly()\n",
        "Sparrow = sparrow()\n",
        "Penguin = penguin()\n",
        "flying(Sparrow)\n",
        "flying(Penguin)\n",
        ""
      ],
      "metadata": {
        "colab": {
          "base_uri": "https://localhost:8080/"
        },
        "id": "wuVwO-cgtYyL",
        "outputId": "151f0aaa-cc09-46a8-83ec-f788bb392241"
      },
      "execution_count": 11,
      "outputs": [
        {
          "output_type": "stream",
          "name": "stdout",
          "text": [
            "sparrow is flying\n",
            "Can't fly no wings\n"
          ]
        }
      ]
    },
    {
      "cell_type": "code",
      "source": [
        "# 5. Write a program to demonstrate encapsulation by creating a class BankAccount with private attributes balance and methods to deposit, withdraw, and check balance.\n",
        "class bankaccount:\n",
        "    def __init__(self, balance):\n",
        "        self.__balance = balance\n",
        "        print(f\"current balance in account is : {self.__balance}\")\n",
        "    def deposit(self, amount):\n",
        "        self.__balance += amount\n",
        "        print(f\"money deposited {amount} successfully current balance is {self.__balance}\")\n",
        "    def withdraw(self, amount):\n",
        "        self.__balance -= amount\n",
        "        print(f\" {amount} rupees withdrawn successfully, current balance is {self.__balance}\")\n",
        "    def get_balance(self):\n",
        "        return self.__balance\n",
        "act1 = bankaccount(1000)\n",
        "act1.deposit(500)\n",
        "act1.withdraw(300)\n",
        "act1.get_balance()\n",
        ""
      ],
      "metadata": {
        "colab": {
          "base_uri": "https://localhost:8080/"
        },
        "id": "vLlEIaMot7XV",
        "outputId": "e2e28503-cfe7-4ee4-d212-68dfc24b881b"
      },
      "execution_count": 14,
      "outputs": [
        {
          "output_type": "stream",
          "name": "stdout",
          "text": [
            "current balance in account is : 1000\n",
            "money deposited 500 successfully current balance is 1500\n",
            " 300 rupees withdrawn successfully, current balance is 1200\n"
          ]
        },
        {
          "output_type": "execute_result",
          "data": {
            "text/plain": [
              "1200"
            ]
          },
          "metadata": {},
          "execution_count": 14
        }
      ]
    },
    {
      "cell_type": "code",
      "source": [
        "# 6. Demonstrate runtime polymorphism using a method play() in a base class Instrument. Derive classes Guitar and Piano that implement their own version of play().\n",
        "\n",
        "class instrument:\n",
        "    def play(self):\n",
        "        print(\"an instrument is playing\")\n",
        "class guitar(instrument):\n",
        "    def play(self):\n",
        "        print(\"guitar is playing\")\n",
        "class piano(instrument):\n",
        "    def play(self):\n",
        "        print(\"piano is playing\")\n",
        "def music_play(instrument):\n",
        "    instrument.play()\n",
        "Guitar = guitar()\n",
        "Piano = piano()\n",
        "music_play(Guitar)\n",
        "music_play(Piano)\n",
        ""
      ],
      "metadata": {
        "colab": {
          "base_uri": "https://localhost:8080/"
        },
        "id": "zxXo4nwMuDuz",
        "outputId": "9d4f52b1-00d7-4bb6-8da1-022feb16a310"
      },
      "execution_count": 15,
      "outputs": [
        {
          "output_type": "stream",
          "name": "stdout",
          "text": [
            "guitar is playing\n",
            "piano is playing\n"
          ]
        }
      ]
    },
    {
      "cell_type": "code",
      "source": [
        "#7. Create a class MathOperations with a class method add_numbers() to add two numbers and a static method subtract_numbers() to subtract two numbers.\n",
        "\n",
        "class mathOperation:\n",
        "    @classmethod\n",
        "    def add_numbers(cls, a, b):\n",
        "        return a + b\n",
        "class mathoperation:\n",
        "    @staticmethod\n",
        "    def substract(a, b):\n",
        "        return a - b\n",
        "add = mathOperation.add_numbers(10, 5)\n",
        "subs = mathoperation.substract(10, 5)\n",
        "print(add)\n",
        "print(subs)\n",
        ""
      ],
      "metadata": {
        "colab": {
          "base_uri": "https://localhost:8080/"
        },
        "id": "K3Fkg88YuJL0",
        "outputId": "830be200-e58e-41b4-a09d-2c04ba821921"
      },
      "execution_count": 16,
      "outputs": [
        {
          "output_type": "stream",
          "name": "stdout",
          "text": [
            "15\n",
            "5\n"
          ]
        }
      ]
    },
    {
      "cell_type": "code",
      "source": [
        "# 8. Implement a class Person with a class method to count the total number of persons created.\n",
        "\n",
        "class person:\n",
        "    count = 0\n",
        "    def __init__(self, name):\n",
        "        self.name = name\n",
        "        person.count += 1\n",
        "    @classmethod\n",
        "    def get_total_person(cls):\n",
        "         return cls.count\n",
        "p1 = person(\"arman\")\n",
        "p2 = person(\"khan\")\n",
        "p2 = person(\"chetan\")\n",
        "p4 = person(\"mehra\")\n",
        "print(\"Total number of person created is:\", person.get_total_person())"
      ],
      "metadata": {
        "colab": {
          "base_uri": "https://localhost:8080/"
        },
        "id": "4IGQFDucuN8G",
        "outputId": "33ce91e0-0238-45f7-86e1-e09a7c62136f"
      },
      "execution_count": 17,
      "outputs": [
        {
          "output_type": "stream",
          "name": "stdout",
          "text": [
            "Total number of person created is: 4\n"
          ]
        }
      ]
    },
    {
      "cell_type": "code",
      "source": [
        "# 9. Write a class Fraction with attributes numerator and denominator. Override the str method to display the fraction as \"numerator/denominator\".\n",
        "\n",
        "class fraction:\n",
        "    def __init__(self, numerator, denominator):\n",
        "        self.numerator = numerator\n",
        "        self.denominator = denominator\n",
        "    def __str__(self):\n",
        "        return f\"{self.numerator} / {self.denominator}\"\n",
        "frac1 = fraction(3, 4)\n",
        "frac2 = fraction(5, 6)\n",
        "print(frac1)\n",
        "print(frac2)\n",
        ""
      ],
      "metadata": {
        "colab": {
          "base_uri": "https://localhost:8080/"
        },
        "id": "e8v0pULDuRsf",
        "outputId": "748710b0-1011-4517-8dcf-3e5110931587"
      },
      "execution_count": 18,
      "outputs": [
        {
          "output_type": "stream",
          "name": "stdout",
          "text": [
            "3 / 4\n",
            "5 / 6\n"
          ]
        }
      ]
    },
    {
      "cell_type": "code",
      "source": [
        "# 10. Demonstrate operator overloading by creating a class Vector and overriding the add method to add two vectors.\n",
        "\n",
        "class Vector:\n",
        "    def __init__(self, x, y):\n",
        "        self.x = x\n",
        "        self.y = y\n",
        "    def __add__(self, other):\n",
        "        return Vector(self.x + other.x, self.y + other.y)\n",
        "    def __str__(self):\n",
        "        return f\"({self.x}, {self.y})\"\n",
        "v1 = Vector(2, 3)\n",
        "v2 = Vector(4, 5)\n",
        "v3 = v1 + v2\n",
        "print(\"Vector 1:\", v1)\n",
        "print(\"Vector 2:\", v2)\n",
        "print(\"Sum of Vectors:\", v3)\n",
        ""
      ],
      "metadata": {
        "colab": {
          "base_uri": "https://localhost:8080/"
        },
        "id": "XUbDMZ9EuW3i",
        "outputId": "2b37bc68-3d2f-4552-adbb-9bcc9d282ea0"
      },
      "execution_count": 19,
      "outputs": [
        {
          "output_type": "stream",
          "name": "stdout",
          "text": [
            "Vector 1: (2, 3)\n",
            "Vector 2: (4, 5)\n",
            "Sum of Vectors: (6, 8)\n"
          ]
        }
      ]
    },
    {
      "cell_type": "code",
      "source": [
        "# 11. Create a class Person with attributes name and age. Add a method greet() that prints Hello, my name is{name} and am {age} years old.\"\n",
        "\n",
        "class person:\n",
        "    def __init__(self, name, age):\n",
        "        self.name = name\n",
        "        self.age = age\n",
        "    def greet(self):\n",
        "        print(f\"Hello my name is {self.name} and i am {self.age} years old!!\")\n",
        "pers1 = person(\"arman\", 21)\n",
        "pers1.greet()\n",
        ""
      ],
      "metadata": {
        "colab": {
          "base_uri": "https://localhost:8080/"
        },
        "id": "OjxqGdt4ubo3",
        "outputId": "a565d786-1cbb-432d-8043-355e5859c73e"
      },
      "execution_count": 20,
      "outputs": [
        {
          "output_type": "stream",
          "name": "stdout",
          "text": [
            "Hello my name is arman and i am 21 years old!!\n"
          ]
        }
      ]
    },
    {
      "cell_type": "code",
      "source": [
        "# 12. Implement a class Student with attributes name and grades. Create a method average_grade() to compute the average of the grades.\n",
        "\n",
        "class student:\n",
        "    def __init__(self, name, grades):\n",
        "        self.name = name\n",
        "        self.grades = grades\n",
        "    def average_grade(self):\n",
        "        if len(self.grades) == 0:\n",
        "            return 0\n",
        "        return sum(self.grades) / len(self.grades)\n",
        "    def __str__(self):\n",
        "        return f\" Student: {self.name}, avarage grade {self.average_grade():.2f}\"\n",
        "s1 = student(\"Arman\", [95, 90, 98])\n",
        "s2 = student(\"Chetan\", [92, 88, 95, 85])\n",
        "print(s1)\n",
        "print(s2)\n",
        ""
      ],
      "metadata": {
        "colab": {
          "base_uri": "https://localhost:8080/"
        },
        "id": "fufI-5k2ufTr",
        "outputId": "9d7636e5-f3c7-45f8-bf76-20eb0afb3c66"
      },
      "execution_count": 21,
      "outputs": [
        {
          "output_type": "stream",
          "name": "stdout",
          "text": [
            " Student: Arman, avarage grade 94.33\n",
            " Student: Chetan, avarage grade 90.00\n"
          ]
        }
      ]
    },
    {
      "cell_type": "code",
      "source": [
        "# 13. Create a class Rectangle with methods set_dimensions() to set the dimensions and area() to calculate the area.\n",
        "\n",
        "class Rectangle:\n",
        "    def __init__(self):\n",
        "        self.length = 0\n",
        "        self.width = 0\n",
        "    def set_dimensions(self, length, width):\n",
        "        self.length = length\n",
        "        self.width = width\n",
        "    def area(self):\n",
        "        return self.length * self.width\n",
        "    def __str__(self):\n",
        "        return f\"Rectangle with Length: {self.length}, Width: {self.width}, Area: {self.area()}\"\n",
        "rect = Rectangle()\n",
        "rect.set_dimensions(5, 10)\n",
        "print(rect)\n",
        ""
      ],
      "metadata": {
        "colab": {
          "base_uri": "https://localhost:8080/"
        },
        "id": "MRYg6OlZul7i",
        "outputId": "9125a243-7dbb-433b-9057-b982879015fa"
      },
      "execution_count": 22,
      "outputs": [
        {
          "output_type": "stream",
          "name": "stdout",
          "text": [
            "Rectangle with Length: 5, Width: 10, Area: 50\n"
          ]
        }
      ]
    },
    {
      "cell_type": "code",
      "source": [
        "# 14. Create a class Employee with a method calculate_ salary() that computes the salary based on hours worked and hourly rate. Create a derived class Manager that adds o bonus to the\n",
        "\n",
        "class Employee:\n",
        "    def __init__(self, name, hours_worked, hourly_rate):\n",
        "        self.name = name\n",
        "        self.hours_worked = hours_worked\n",
        "        self.hourly_rate = hourly_rate\n",
        "    def calculate_salary(self):\n",
        "        return self.hours_worked * self.hourly_rate\n",
        "    def __str__(self):\n",
        "        return f\"Employee: {self.name}, Salary: {self.calculate_salary()}\"\n",
        "class Manager(Employee):\n",
        "    def __init__(self, name, hours_worked, hourly_rate, bonus):\n",
        "        super().__init__(name, hours_worked, hourly_rate)\n",
        "        self.bonus = bonus\n",
        "    def calculate_salary(self):\n",
        "        return super().calculate_salary() + self.bonus\n",
        "    def __str__(self):\n",
        "        return f\"Manager: {self.name}, Salary: {self.calculate_salary()}\"\n",
        "emp = Employee(\"Arman\", 40, 20)\n",
        "mgr = Manager(\"Chetan\", 45, 30, 500)\n",
        "print(emp)\n",
        "print(mgr)\n",
        ""
      ],
      "metadata": {
        "colab": {
          "base_uri": "https://localhost:8080/"
        },
        "id": "Eh_hSznFuo6j",
        "outputId": "264ecae4-7a9a-4aca-bca7-2de1ed3cc64b"
      },
      "execution_count": 23,
      "outputs": [
        {
          "output_type": "stream",
          "name": "stdout",
          "text": [
            "Employee: Arman, Salary: 800\n",
            "Manager: Chetan, Salary: 1850\n"
          ]
        }
      ]
    },
    {
      "cell_type": "code",
      "source": [
        "# 15. Create a class Product with attributes name, price, and quantity. Implement a method total_ price() that calculates the total price of the product.\n",
        "\n",
        "class product:\n",
        "    def __init__(self, name, price, quantity):\n",
        "        self.name = name\n",
        "        self.price = price\n",
        "        self.quantity = quantity\n",
        "    def total_price(self):\n",
        "        return (self.price) * (self.quantity)\n",
        "    def __str__(self):\n",
        "        return f\" Product name : {self.name}, Price : {self.price}, Quantity: {self.quantity}, Total amount is : {self.total_price()}\"\n",
        "p1 = product(\"creatin\", 400, 2)\n",
        "p2 = product(\"chocolate\", 100, 3)\n",
        "p3 = product(\"lenskart_specs\", 1650, 2)\n",
        "p4 = product(\"oats\", 200, 3)\n",
        "\n",
        "print(p1)\n",
        "print(p2)\n",
        "print(p3)\n",
        "print(p4)"
      ],
      "metadata": {
        "colab": {
          "base_uri": "https://localhost:8080/"
        },
        "id": "Uv22tpHpuuKc",
        "outputId": "b1363413-5580-4656-9f5c-ae402c2fa10f"
      },
      "execution_count": 24,
      "outputs": [
        {
          "output_type": "stream",
          "name": "stdout",
          "text": [
            " Product name : creatin, Price : 400, Quantity: 2, Total amount is : 800\n",
            " Product name : chocolate, Price : 100, Quantity: 3, Total amount is : 300\n",
            " Product name : lenskart_specs, Price : 1650, Quantity: 2, Total amount is : 3300\n",
            " Product name : oats, Price : 200, Quantity: 3, Total amount is : 600\n"
          ]
        }
      ]
    },
    {
      "cell_type": "code",
      "source": [
        "# 16. Create a class Animal with an abstract method sound(). Create two derived classes Cow and Sheep that implement the sound() method.\n",
        "from abc import ABC, abstractmethod\n",
        "class animal(ABC):\n",
        "    @abstractmethod\n",
        "    def sound(self):\n",
        "        pass\n",
        "class cow(animal):\n",
        "    def sound(self):\n",
        "        return \"cow's sound\"\n",
        "class sheep(animal):\n",
        "    def sound(self):\n",
        "        return \" sheep's sound\"\n",
        "\n",
        "c1 = cow()\n",
        "s1 = sheep()\n",
        "print(s1.sound())\n",
        "print(c1.sound())\n",
        ""
      ],
      "metadata": {
        "colab": {
          "base_uri": "https://localhost:8080/"
        },
        "id": "PMeBhXK6vDV5",
        "outputId": "944ffc91-22f1-4aa8-a485-7a125235432e"
      },
      "execution_count": 25,
      "outputs": [
        {
          "output_type": "stream",
          "name": "stdout",
          "text": [
            " sheep's sound\n",
            "cow's sound\n"
          ]
        }
      ]
    },
    {
      "cell_type": "code",
      "source": [
        "# 17. Create a class Book with attributes title, author,and year_published. Add a method get_book_info() that returns formatted string with the book's details.\n",
        "\n",
        "class book:\n",
        "    def __init__(self, title, author, year_of_published):\n",
        "        self.title = title\n",
        "        self.author = author\n",
        "        self.year_of_published = year_of_published\n",
        "    def get_book_info(self):\n",
        "        return f\" Title of book : {self.title}, Author of book : {self.author}, Year of publish : {self.year_of_published}\"\n",
        "book1 = book(\"gaban\", \"premchand\", 1960)\n",
        "print(book1.get_book_info())\n",
        ""
      ],
      "metadata": {
        "colab": {
          "base_uri": "https://localhost:8080/"
        },
        "id": "l9Ef6ouCvF5O",
        "outputId": "6c9f9b83-2e66-4e3d-8ac0-b86f05a110cf"
      },
      "execution_count": 26,
      "outputs": [
        {
          "output_type": "stream",
          "name": "stdout",
          "text": [
            " Title of book : gaban, Author of book : premchand, Year of publish : 1960\n"
          ]
        }
      ]
    },
    {
      "cell_type": "code",
      "source": [
        "# 18. Create a class House with attributes address and price. Create a derived class Mansion that adds an attribute number_of_rooms.\n",
        "\n",
        "class house:\n",
        "    def __init__(self, address, price):\n",
        "        self.address = address\n",
        "        self.price = price\n",
        "    def get_info(self):\n",
        "        return f\" House in : {self.address}, price : {self.price} is available to own\"\n",
        "class mansion(house):\n",
        "    def __init__(self, address, price, no_rooms):\n",
        "        super().__init__(address, price)\n",
        "        self.no_rooms = no_rooms\n",
        "    def get_info(self):\n",
        "        return f\" mansion in : {self.address}, price : {self.price}, Total Rooms : {self.no_rooms} is available to own\"\n",
        "house1 = house(\"delhi\", 2000000)\n",
        "mansion1 = mansion(\"jaipur\", 150000000, 20)\n",
        "print(house1.get_info())\n",
        "print(mansion1.get_info())\n",
        ""
      ],
      "metadata": {
        "colab": {
          "base_uri": "https://localhost:8080/"
        },
        "id": "qlYsY-dzvJH6",
        "outputId": "24f63767-c19e-4878-f247-1ee99335a5a9"
      },
      "execution_count": 27,
      "outputs": [
        {
          "output_type": "stream",
          "name": "stdout",
          "text": [
            " House in : delhi, price : 2000000 is available to own\n",
            " mansion in : jaipur, price : 150000000, Total Rooms : 20 is available to own\n"
          ]
        }
      ]
    }
  ]
}